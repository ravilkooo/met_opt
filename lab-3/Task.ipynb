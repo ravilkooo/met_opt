{
 "cells": [
  {
   "cell_type": "code",
   "execution_count": null,
   "metadata": {},
   "outputs": [],
   "source": [
    "import numpy as np\n",
    "import matplotlib.pyplot as plt\n",
    "# from scipy.integrate import odeint\n",
    "from tqdm import tqdm"
   ]
  },
  {
   "cell_type": "code",
   "execution_count": null,
   "metadata": {},
   "outputs": [],
   "source": [
    "\n",
    "A = [[1.01, 1.01, 9.45, 0.95],\n",
    "    [1/500, 1/600, 0, 0],\n",
    "    [0, 0, 1/30, 1/4],\n",
    "    [0, 0, 0, 1]]\n",
    "b = [14000, 21, 16, 1500]\n",
    "c = [24, 27, 138, 27.5]\n",
    "\n",
    "\n"
   ]
  },
  {
   "cell_type": "markdown",
   "metadata": {},
   "source": [
    "$n$ - количество неизв переменных\n",
    "\n",
    "$m$ - количество условий\n",
    "\n",
    "$x \\in \\mathbb{R}^n$,\n",
    "$A \\in \\mathbb{R}_{m n}$,\n",
    "$B \\in \\mathbb{R}^{m}$,\n",
    "\n",
    "$x' \\in \\mathbb{R}^m$,\n",
    "\n",
    "$x := (x,x') \\in \\mathbb{R}^{n_1}$\n",
    "\n",
    "$A := (A,E) \\in \\mathbb{R}_{m n_1}$\n",
    "\n",
    "$n_1 := n + m$\n",
    "\n",
    "\n",
    "0. $x$ представляется в виде $x = (x_b, x_k)$\n",
    "\n",
    "    $x_b \\in \\mathbb{R}^m$, $x_k \\in \\mathbb{R}^{n_1-m}$\n",
    "\n",
    "    $A$ представляется в виде $A = (A_b, A_k)$\n",
    "\n",
    "    $A_b \\in \\mathbb{R}_{m m}$, $A_k \\in \\mathbb{R}_{m (n_1-m)}$\n",
    "\n",
    "    $Ax = B -> A_b x_b + A_k x_k = B$\n",
    "\n",
    "1. Приводим задачу к канон форме *canone()*\n",
    "    1. Приводим $A_b x_b + A_k x_k = B$ к виду $E x_b + A_k' x_k = B'$\n",
    "2. Находим начальную крайнюю точку при $x_b=0$, то есть просто $x_b = B'$ *init_border()*\n",
    "3. Считаем симплекс-таблицу *calc_table()*\n",
    "    1. Считаем $z_i := \\sum_{j=1}^{m} c_j a_{i j}$, $i = 1,..,n_1$\n",
    "    2. Считаем $\\Delta$ := ($\\Delta_1$,..,$\\Delta_{n_1}$), $\\Delta_i = z_i - c_i$, $i = 1,..,n_1$\n",
    "4. Исследуем симплекс-таблицу *analyze()*\n",
    "    1. Если $\\Delta \\ge 0$, то x - решение. **Алгоритм завершён**\n",
    "    2. Если $\\exists j : \\Delta_j < 0$ и $x_j < 0$, то решение $<c, x> = +\\inf$. **Алгоритм завершён**\n",
    "    3. (Какие-то действия...)\n",
    "5. Обновление коэффицентов $a$, $b$ по формулам (..) *update_ab()*. Переход к шагу 4."
   ]
  },
  {
   "cell_type": "markdown",
   "metadata": {},
   "source": [
    "Класс Матриц произвольного размера (пар-ры: высота, шир)\n",
    "\n",
    "Алгоритм перевода системы в канон вид\n",
    "\n"
   ]
  },
  {
   "cell_type": "code",
   "execution_count": null,
   "metadata": {},
   "outputs": [],
   "source": []
  },
  {
   "cell_type": "code",
   "execution_count": null,
   "metadata": {},
   "outputs": [],
   "source": []
  }
 ],
 "metadata": {
  "language_info": {
   "name": "python"
  }
 },
 "nbformat": 4,
 "nbformat_minor": 2
}
